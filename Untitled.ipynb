{
 "cells": [
  {
   "cell_type": "markdown",
   "metadata": {},
   "source": [
    "## Pokemon Test\n",
    "\n",
    "Do each line of code. Each answer is 6 points. "
   ]
  },
  {
   "cell_type": "markdown",
   "metadata": {},
   "source": [
    "1. Defining a player\n",
    "Each player needs to have a set of charactaristics, stored in variables, such as an id, a username, play data, etc. A great structure to house these variables is a dictionary, because the values can contain any python datatype includeing list, dict, tuple, int, float, bool, or str.\n",
    "\n",
    "The player characteristics (keys to the player dict) are:\n",
    "\n",
    "player_id : id code unique to each player (integer)\n",
    "player_name : entered name of the player (string)\n",
    "time_played : number of time played the game in minutes (float)\n",
    "player_pokemon: the player's captured pokemon (dictionary)\n",
    "gyms_visited: ids of the gyms that a player has visited (list)"
   ]
  },
  {
   "cell_type": "markdown",
   "metadata": {},
   "source": [
    "### A) Create a `dict` for a single player.\n",
    "\n",
    "* The `player_id` should be 1\n",
    "* Since the player doesn't have a name yet, you may set the `player_name` equal to `None`\n",
    "* The rest of the fields should be populated properly depending on the datatype, i.e., `0.0` or an empty iterable of the appropriate type."
   ]
  },
  {
   "cell_type": "code",
   "execution_count": 225,
   "metadata": {},
   "outputs": [],
   "source": [
    "basketball_playe ={\n",
    "    \"player_id\" : 1,\n",
    "    \"player_name\" : None,\n",
    "    \"Injury\" : \"\",\n",
    "    \"Trainers\" : {},\n",
    "    \"Facility\" : []\n",
    "}"
   ]
  },
  {
   "cell_type": "code",
   "execution_count": 226,
   "metadata": {},
   "outputs": [],
   "source": [
    "player_therapy = {\n",
    "    1 : player_1\n",
    "}"
   ]
  },
  {
   "cell_type": "code",
   "execution_count": 227,
   "metadata": {},
   "outputs": [
    {
     "data": {
      "text/plain": [
       "{1: {'player_id': 1,\n",
       "  'player_name': 'Varun Ganti',\n",
       "  'Time Played': 0.0,\n",
       "  'player_pokemon': {1: {'poke_id ': 1,\n",
       "    'poke_name': 'charazard',\n",
       "    'poke_type': 'fire',\n",
       "    'hp': 476,\n",
       "    'attack': 93,\n",
       "    'defense': 87,\n",
       "    'special_attack': 143,\n",
       "    'special_defense': 109,\n",
       "    'speed': 101}},\n",
       "  'gym_visited': ['linkedin.com', 'github.com']},\n",
       " 2: {'player_id': 2,\n",
       "  'player_name': 'Heza',\n",
       "  'Time Played': 0.0,\n",
       "  'player_pokemon': {2: {'poke_id ': 2,\n",
       "    'poke_name': 'charazard',\n",
       "    'poke_type': 'fire',\n",
       "    'hp': 404,\n",
       "    'attack': 62,\n",
       "    'defense': 87,\n",
       "    'special_attack': 116,\n",
       "    'special_defense': 121,\n",
       "    'speed': 122}},\n",
       "  'gym_visited': ['quora.com', 'ebay.com']}}"
      ]
     },
     "execution_count": 227,
     "metadata": {},
     "output_type": "execute_result"
    }
   ],
   "source": [
    "poke_players"
   ]
  },
  {
   "cell_type": "code",
   "execution_count": 190,
   "metadata": {},
   "outputs": [],
   "source": [
    "poke_players[1][\"player_name\"] = \"Varun Ganti\""
   ]
  },
  {
   "cell_type": "code",
   "execution_count": 191,
   "metadata": {},
   "outputs": [
    {
     "data": {
      "text/plain": [
       "{1: {'player_id': 1,\n",
       "  'player_name': 'Varun Ganti',\n",
       "  'Time Played': 0.0,\n",
       "  'player_pokemon': {},\n",
       "  'gym_visited': []}}"
      ]
     },
     "execution_count": 191,
     "metadata": {},
     "output_type": "execute_result"
    }
   ],
   "source": [
    "poke_players"
   ]
  },
  {
   "cell_type": "code",
   "execution_count": 192,
   "metadata": {},
   "outputs": [],
   "source": [
    "def add_player(player_dict, player_id, player_name):\n",
    "    \n",
    "    pokemon = {\n",
    "    \"player_id\" : player_id,\n",
    "    \"player_name\" : player_name,\n",
    "    \"Time Played\" : 0.0,\n",
    "    \"player_pokemon\" : {},\n",
    "    \"gym_visited\" : []\n",
    "    }\n",
    "    \n",
    "    \n",
    "    player_dict[player_id] = pokemon\n",
    "    \n",
    "    return player_dict"
   ]
  },
  {
   "cell_type": "code",
   "execution_count": 193,
   "metadata": {},
   "outputs": [
    {
     "data": {
      "text/plain": [
       "{1: {'player_id': 1,\n",
       "  'player_name': 'Varun Ganti',\n",
       "  'Time Played': 0.0,\n",
       "  'player_pokemon': {},\n",
       "  'gym_visited': []},\n",
       " 2: {'player_id': 2,\n",
       "  'player_name': 'Heza',\n",
       "  'Time Played': 0.0,\n",
       "  'player_pokemon': {},\n",
       "  'gym_visited': []}}"
      ]
     },
     "execution_count": 193,
     "metadata": {},
     "output_type": "execute_result"
    }
   ],
   "source": [
    "add_player(poke_players, 2, \"Heza\")"
   ]
  },
  {
   "cell_type": "code",
   "execution_count": 194,
   "metadata": {},
   "outputs": [],
   "source": [
    "gyms = [ 'reddit.com',\n",
    " 'amazon.com',\n",
    "'twitter.com',\n",
    "'linkedin.com',\n",
    "        \n",
    "        \n",
    " 'ebay.com',\n",
    " 'netflix.com',\n",
    " 'stackoverflow.com',\n",
    " 'github.com',\n",
    " 'quora.com',\n",
    " 'google.com']"
   ]
  },
  {
   "cell_type": "code",
   "execution_count": 195,
   "metadata": {},
   "outputs": [],
   "source": [
    "from random import sample"
   ]
  },
  {
   "cell_type": "code",
   "execution_count": 196,
   "metadata": {},
   "outputs": [
    {
     "data": {
      "text/plain": [
       "{1: {'player_id': 1,\n",
       "  'player_name': 'Varun Ganti',\n",
       "  'Time Played': 0.0,\n",
       "  'player_pokemon': {},\n",
       "  'gym_visited': ['linkedin.com', 'github.com']},\n",
       " 2: {'player_id': 2,\n",
       "  'player_name': 'Heza',\n",
       "  'Time Played': 0.0,\n",
       "  'player_pokemon': {},\n",
       "  'gym_visited': ['quora.com', 'ebay.com']}}"
      ]
     },
     "execution_count": 196,
     "metadata": {},
     "output_type": "execute_result"
    }
   ],
   "source": [
    "\n",
    "\n",
    "for i in poke_players.keys():\n",
    "    poke_players[i][\"gym_visited\"] = sample(gyms,2)\n",
    "poke_players"
   ]
  },
  {
   "cell_type": "code",
   "execution_count": 197,
   "metadata": {},
   "outputs": [],
   "source": [
    "\n",
    "import numpy as np\n",
    "def create_pokemon(poke_id, poke_name, poke_type):\n",
    "    \n",
    "    return {\n",
    "        \n",
    "\"poke_id \": poke_id,\n",
    "\"poke_name\" : poke_name,\n",
    "\"poke_type\" : poke_type,\n",
    "\"hp\" : np.random.randint(400,500),\n",
    "\"attack\" : np.random.randint(50,100),\n",
    "\"defense\" : np.random.randint(50,100),\n",
    "\"special_attack\" : np.random.randint(100,150),\n",
    "\"special_defense\" : np.random.randint(100,150),\n",
    "\"speed\" : np.random.randint(100,150)\n",
    "\n",
    "    }\n",
    "\n",
    "\n",
    "##Note: All integer ranges are inclusive on both ends."
   ]
  },
  {
   "cell_type": "code",
   "execution_count": 198,
   "metadata": {},
   "outputs": [
    {
     "data": {
      "text/plain": [
       "{'poke_id ': 1,\n",
       " 'poke_name': 'Pikachu',\n",
       " 'poke_type': 'electric',\n",
       " 'hp': 482,\n",
       " 'attack': 81,\n",
       " 'defense': 91,\n",
       " 'special_attack': 137,\n",
       " 'special_defense': 138,\n",
       " 'speed': 124}"
      ]
     },
     "execution_count": 198,
     "metadata": {},
     "output_type": "execute_result"
    }
   ],
   "source": [
    "create_pokemon(1, 'Pikachu' , 'electric')"
   ]
  },
  {
   "cell_type": "code",
   "execution_count": 199,
   "metadata": {},
   "outputs": [],
   "source": [
    "pokedex = {}"
   ]
  },
  {
   "cell_type": "code",
   "execution_count": 200,
   "metadata": {},
   "outputs": [],
   "source": [
    "def create_and_add_to_pokedex(pokedex, poke_id, poke_name,poke_type):\n",
    "    \n",
    "        add_pokemon =  create_pokemon(poke_id, poke_name, poke_type)\n",
    "        \n",
    "        pokedex[poke_id] = add_pokemon\n",
    "        return pokedex"
   ]
  },
  {
   "cell_type": "code",
   "execution_count": 202,
   "metadata": {},
   "outputs": [
    {
     "data": {
      "text/plain": [
       "{1: {'poke_id ': 1,\n",
       "  'poke_name': 'charazard',\n",
       "  'poke_type': 'fire',\n",
       "  'hp': 476,\n",
       "  'attack': 93,\n",
       "  'defense': 87,\n",
       "  'special_attack': 143,\n",
       "  'special_defense': 109,\n",
       "  'speed': 101},\n",
       " 2: {'poke_id ': 2,\n",
       "  'poke_name': 'charazard',\n",
       "  'poke_type': 'fire',\n",
       "  'hp': 404,\n",
       "  'attack': 62,\n",
       "  'defense': 87,\n",
       "  'special_attack': 116,\n",
       "  'special_defense': 121,\n",
       "  'speed': 122},\n",
       " 3: {'poke_id ': 3,\n",
       "  'poke_name': 'charazard',\n",
       "  'poke_type': 'fire',\n",
       "  'hp': 475,\n",
       "  'attack': 79,\n",
       "  'defense': 85,\n",
       "  'special_attack': 146,\n",
       "  'special_defense': 140,\n",
       "  'speed': 102}}"
      ]
     },
     "execution_count": 202,
     "metadata": {},
     "output_type": "execute_result"
    }
   ],
   "source": [
    "create_and_add_to_pokedex(pokedex, 1, \"charazard\", \"fire\")\n",
    "create_and_add_to_pokedex(pokedex, 2, \"charazard\", \"fire\")\n",
    "create_and_add_to_pokedex(pokedex, 3, \"charazard\", \"fire\")\n",
    "\n",
    "pokedex"
   ]
  },
  {
   "cell_type": "code",
   "execution_count": 214,
   "metadata": {},
   "outputs": [],
   "source": [
    "def add_pokemon_to_player(player_id, poke_id,  poke_players , pokedex = pokedex ):\n",
    "   poke_players[player_id][\"player_pokemon\"][poke_id] = pokedex[poke_id]\n",
    "    \n",
    "   \n",
    "            "
   ]
  },
  {
   "cell_type": "code",
   "execution_count": 219,
   "metadata": {},
   "outputs": [],
   "source": [
    "add_pokemon_to_player(1,1, poke_players)\n",
    "add_pokemon_to_player(2,2,poke_players)"
   ]
  },
  {
   "cell_type": "code",
   "execution_count": 220,
   "metadata": {},
   "outputs": [
    {
     "data": {
      "text/plain": [
       "{1: {'player_id': 1,\n",
       "  'player_name': 'Varun Ganti',\n",
       "  'Time Played': 0.0,\n",
       "  'player_pokemon': {1: {'poke_id ': 1,\n",
       "    'poke_name': 'charazard',\n",
       "    'poke_type': 'fire',\n",
       "    'hp': 476,\n",
       "    'attack': 93,\n",
       "    'defense': 87,\n",
       "    'special_attack': 143,\n",
       "    'special_defense': 109,\n",
       "    'speed': 101}},\n",
       "  'gym_visited': ['linkedin.com', 'github.com']},\n",
       " 2: {'player_id': 2,\n",
       "  'player_name': 'Heza',\n",
       "  'Time Played': 0.0,\n",
       "  'player_pokemon': {2: {'poke_id ': 2,\n",
       "    'poke_name': 'charazard',\n",
       "    'poke_type': 'fire',\n",
       "    'hp': 404,\n",
       "    'attack': 62,\n",
       "    'defense': 87,\n",
       "    'special_attack': 116,\n",
       "    'special_defense': 121,\n",
       "    'speed': 122}},\n",
       "  'gym_visited': ['quora.com', 'ebay.com']}}"
      ]
     },
     "execution_count": 220,
     "metadata": {},
     "output_type": "execute_result"
    }
   ],
   "source": [
    "poke_players"
   ]
  },
  {
   "cell_type": "code",
   "execution_count": 221,
   "metadata": {},
   "outputs": [
    {
     "name": "stdout",
     "output_type": "stream",
     "text": [
      "Varun Ganti visited linkedin.com\n",
      "Heza visited ebay.com\n",
      "Varun Ganti visited github.com\n",
      "Heza visited quora.com\n"
     ]
    }
   ],
   "source": [
    "for gym in gyms:\n",
    "    for player_id,player_values in poke_players.items():\n",
    "        if gym in player_values['gym_visited']:\n",
    "            print(player_values[\"player_name\"], \"visited\", gym)\n",
    "        "
   ]
  },
  {
   "cell_type": "code",
   "execution_count": null,
   "metadata": {},
   "outputs": [],
   "source": []
  }
 ],
 "metadata": {
  "kernelspec": {
   "display_name": "Python 3",
   "language": "python",
   "name": "python3"
  },
  "language_info": {
   "codemirror_mode": {
    "name": "ipython",
    "version": 3
   },
   "file_extension": ".py",
   "mimetype": "text/x-python",
   "name": "python",
   "nbconvert_exporter": "python",
   "pygments_lexer": "ipython3",
   "version": "3.7.4"
  }
 },
 "nbformat": 4,
 "nbformat_minor": 2
}
